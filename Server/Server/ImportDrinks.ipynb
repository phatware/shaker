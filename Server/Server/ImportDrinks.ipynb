{
 "cells": [
  {
   "cell_type": "code",
   "execution_count": 1,
   "id": "6b4478c4",
   "metadata": {},
   "outputs": [],
   "source": [
    "from database import Database\n",
    "from tables import Tables"
   ]
  },
  {
   "cell_type": "code",
   "execution_count": 2,
   "id": "2d461f14",
   "metadata": {},
   "outputs": [],
   "source": [
    "import pandas as pd\n",
    "from api_setup import _config"
   ]
  },
  {
   "cell_type": "code",
   "execution_count": 3,
   "id": "d36a760b",
   "metadata": {},
   "outputs": [],
   "source": [
    "import sqlite3\n",
    "import time\n",
    "import datetime"
   ]
  },
  {
   "cell_type": "code",
   "execution_count": 4,
   "id": "600a800b",
   "metadata": {},
   "outputs": [],
   "source": [
    "# conn = sqlite3.connect('../../database/drinks.sql')\n",
    "# c = conn.cursor()"
   ]
  },
  {
   "cell_type": "code",
   "execution_count": 5,
   "id": "4cb53b53",
   "metadata": {},
   "outputs": [],
   "source": [
    "# sql_query = \"\"\"SELECT name FROM sqlite_master;\"\"\"\n",
    "# c.execute(sql_query)\n",
    "# print(c.fetchall())"
   ]
  },
  {
   "cell_type": "code",
   "execution_count": 6,
   "id": "f8b9a34e",
   "metadata": {},
   "outputs": [],
   "source": [
    "class ImportDrinks:\n",
    "    # init method or constructor\n",
    "    def __init__(self, dbname):\n",
    "        self.conn = sqlite3.connect(dbname)\n",
    "        self.cur = self.conn.cursor()\n",
    "\n",
    "        self.db = Database(\n",
    "            host = _config['db_url'],\n",
    "            user = _config['db_login'],\n",
    "            password = _config['db_pass'],\n",
    "            database_name = _config['db_name'],\n",
    "            ssl_ca = _config['db_cert'])\n",
    "\n",
    "        if not self.db.connect():\n",
    "            print('Cant open database')\n",
    "            quit()\n",
    "\n",
    "    def read_from_db(self, name):\n",
    "        self.cur.execute('SELECT * FROM ' + name)\n",
    "        data = self.cur.fetchall()\n",
    "        return data\n",
    "\n",
    "    def import_glass_table(self):\n",
    "        data = self.read_from_db('glasses')\n",
    "        for d in data:\n",
    "            sql = \"INSERT INTO glasses (grecord_id, glass, count) VALUES (%d, '%s', %d)\" % (d[0], d[1], d[2])\n",
    "            self.db.execute_insert_sql(sql)\n",
    "\n",
    "    def import_categories_table(self):\n",
    "        data = self.read_from_db('categories')\n",
    "        for d in data:\n",
    "            sql = \"INSERT INTO categories (crecord_id, category, count) VALUES (%d, '%s', %d)\" % (d[0], d[1], d[2])\n",
    "            self.db.execute_insert_sql(sql)\n",
    "\n",
    "    def import_ingredients_table(self):\n",
    "        data = self.read_from_db('ingredients')\n",
    "        for d in data:\n",
    "            sql = \"\"\"INSERT INTO ingredients (record_id, item, used, options, enabled, enabled_default, category_id) VALUES (%d, \"%s\", %d, %d, %d, %d, %d)\"\"\" % (d[0], d[1], d[2], d[3], d[4], d[5], d[6])\n",
    "            self.db.execute_insert_sql(sql)\n",
    "\n",
    "    def import_ingredient_types_table(self):\n",
    "        data = self.read_from_db('ingredient_types')\n",
    "        for d in data:\n",
    "            sql = \"\"\"INSERT INTO ingredient_types (record_id, category, category_id) VALUES (%d, \"%s\", %d)\"\"\" % (d[0], d[1], d[2])\n",
    "            self.db.execute_insert_sql(sql)\n",
    "\n",
    "    def import_drinks_table(self, alcohol=True):\n",
    "        table = \"hard_drinks\" if (alcohol is True) else \"soft_drinks\"\n",
    "        data = self.read_from_db(table)\n",
    "        for d in data:\n",
    "            sql = \"\"\"INSERT INTO \"\"\" + table\n",
    "            sql = sql + \"\"\" (record_id, name, ingredients, instructions, rating, comments, user_id, shopping, category_id, shopcount, glass_id, shopping_ids, enabled, unlocked) VALUES (%s, %s, %s, %s, %s, %s, %s, %s, %s, %s, %s, %s, %s, %s)\"\"\"\n",
    "            insert_blob_tuple = (d[0], d[1], d[2], d[3], d[4], d[5], d[6], d[7], d[8], d[9], d[10], d[11], d[12], d[13])\n",
    "            self.db.execute_insert_sql(sql, insert_blob_tuple)\n",
    "\n",
    "    def import_all(self):\n",
    "        print(\"Importing ingredients...\")\n",
    "        self.import_categories_table()\n",
    "        self.import_ingredient_types_table()\n",
    "        self.import_glass_table()\n",
    "        self.import_ingredients_table()\n",
    "        print(\"Importing drinks...\")\n",
    "        self.import_drinks_table(True)\n",
    "        self.import_drinks_table(False)\n",
    "        print(\"Importing complete.\")"
   ]
  },
  {
   "cell_type": "code",
   "execution_count": 7,
   "id": "7f596f1f",
   "metadata": {},
   "outputs": [
    {
     "name": "stdout",
     "output_type": "stream",
     "text": [
      "Importing ingredients...\n",
      "Importing drinks...\n",
      "Importing complete.\n"
     ]
    }
   ],
   "source": [
    "i = ImportDrinks('../../database/drinks.sql')\n",
    "i.import_all()"
   ]
  },
  {
   "cell_type": "code",
   "execution_count": 7,
   "id": "85bfab6c",
   "metadata": {},
   "outputs": [],
   "source": []
  }
 ],
 "metadata": {
  "kernelspec": {
   "display_name": "Python 3 (ipykernel)",
   "language": "python",
   "name": "python3"
  },
  "language_info": {
   "codemirror_mode": {
    "name": "ipython",
    "version": 3
   },
   "file_extension": ".py",
   "mimetype": "text/x-python",
   "name": "python",
   "nbconvert_exporter": "python",
   "pygments_lexer": "ipython3",
   "version": "3.9.5"
  }
 },
 "nbformat": 4,
 "nbformat_minor": 5
}
